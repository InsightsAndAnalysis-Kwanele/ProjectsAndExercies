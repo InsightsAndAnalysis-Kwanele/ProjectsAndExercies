{
 "cells": [
  {
   "cell_type": "code",
   "execution_count": 26,
   "id": "a8a4c4ec-3b72-41f4-929f-e5da1cf41d56",
   "metadata": {},
   "outputs": [
    {
     "name": "stdout",
     "output_type": "stream",
     "text": [
      "[[ 2  4  6  8 10]\n",
      " [ 1  3  5  7  9]]\n"
     ]
    }
   ],
   "source": [
    "import numpy as np\n",
    "\n",
    "arr=np.array([[2,4,6,8,10],[1,3,5,7,9]])\n",
    "\n",
    "\n",
    "print(arr)"
   ]
  },
  {
   "cell_type": "code",
   "execution_count": 18,
   "id": "e100c248-21ee-4614-b5f1-4e578a17429a",
   "metadata": {},
   "outputs": [
    {
     "name": "stdout",
     "output_type": "stream",
     "text": [
      "[[ 2  4  6  8 10]\n",
      " [ 1  3  5  7  9]]\n"
     ]
    }
   ],
   "source": [
    "myArr=arr.copy()\n",
    "\n",
    "print(myArr)"
   ]
  },
  {
   "cell_type": "code",
   "execution_count": 29,
   "id": "ce8cb710-b96a-49c7-bed5-c6305d5faf43",
   "metadata": {},
   "outputs": [
    {
     "name": "stdout",
     "output_type": "stream",
     "text": [
      "[[1 2 3 4 5]\n",
      " [1 3 5 7 9]]\n",
      "[[ 2  4  6  8 10]\n",
      " [35 35 35 35 35]]\n"
     ]
    }
   ],
   "source": [
    "print(myArr)\n",
    "\n",
    "print(arr)\n",
    "\n",
    "otherArr=arr.view()\n",
    "otherArr[1]=35\n",
    "myArr[0]=[1,2,3,4,5]\n",
    "\n",
    "\n"
   ]
  },
  {
   "cell_type": "code",
   "execution_count": 30,
   "id": "3332ea1f-f804-42c6-aa5a-5d636a871a85",
   "metadata": {},
   "outputs": [
    {
     "name": "stdout",
     "output_type": "stream",
     "text": [
      "[[1 2 3 4 5]\n",
      " [1 3 5 7 9]]\n",
      "[[ 2  4  6  8 10]\n",
      " [35 35 35 35 35]]\n",
      "[[ 2  4  6  8 10]\n",
      " [35 35 35 35 35]]\n"
     ]
    }
   ],
   "source": [
    "print(myArr)\n",
    "\n",
    "print(otherArr)\n",
    "print(arr)"
   ]
  },
  {
   "cell_type": "code",
   "execution_count": 27,
   "id": "fa6c918d-6ac1-4e30-bc9a-98331558681b",
   "metadata": {},
   "outputs": [
    {
     "name": "stdout",
     "output_type": "stream",
     "text": [
      "[[1 2 3 4 5]\n",
      " [1 3 5 7 9]]\n",
      "[[ 2  4  6  8 10]\n",
      " [ 1  3  5  7  9]]\n"
     ]
    }
   ],
   "source": [
    "print(myArr)\n",
    "print(otherArr)\n",
    "#print(arr)\n"
   ]
  },
  {
   "cell_type": "code",
   "execution_count": 24,
   "id": "ed5b69bd-8a32-4371-9216-53a0f26b756b",
   "metadata": {},
   "outputs": [
    {
     "name": "stdout",
     "output_type": "stream",
     "text": [
      "(2, 5)\n"
     ]
    }
   ],
   "source": [
    "print(myArr.shape)"
   ]
  },
  {
   "cell_type": "code",
   "execution_count": 31,
   "id": "a6bbf894-8215-469d-ab78-1144d21bb9e2",
   "metadata": {},
   "outputs": [
    {
     "name": "stdout",
     "output_type": "stream",
     "text": [
      "[[[[ 5 10 15 20 25 30]]]]\n",
      "Shape of Array: (1, 1, 1, 6)\n"
     ]
    }
   ],
   "source": [
    "exArr=np.array([5,10,15,20,25,30],ndmin=4)\n",
    "\n",
    "print(exArr)\n",
    "print(f\"Shape of Array: {exArr.shape}\" )"
   ]
  },
  {
   "cell_type": "code",
   "execution_count": 33,
   "id": "79c42c24-dcbb-4cf9-886d-d36dcf47e83c",
   "metadata": {},
   "outputs": [
    {
     "name": "stdout",
     "output_type": "stream",
     "text": [
      "[[[ 2  4  6  8 10]\n",
      "  [ 3  6  9 12 15]]\n",
      "\n",
      " [[ 4  8 12 16 20]\n",
      "  [ 5 10 15 20 25]]\n",
      "\n",
      " [[ 6 12 18 24 30]\n",
      "  [ 7 14 21 28 35]]]\n",
      "Shape of Array: (3, 2, 5)\n"
     ]
    }
   ],
   "source": [
    "exArr=np.array([[[2,4,6,8,10],[3,6,9,12,15]],[[4,8,12,16,20],[5,10,15,20,25]],[[6,12,18,24,30],[7,14,21,28,35]]])\n",
    "\n",
    "print(exArr)\n",
    "print(f\"Shape of Array: {exArr.shape}\" )"
   ]
  },
  {
   "cell_type": "code",
   "execution_count": null,
   "id": "fa3f3019-d207-43b2-853e-a4d3783d79aa",
   "metadata": {},
   "outputs": [],
   "source": []
  }
 ],
 "metadata": {
  "kernelspec": {
   "display_name": "Python 3 (ipykernel)",
   "language": "python",
   "name": "python3"
  },
  "language_info": {
   "codemirror_mode": {
    "name": "ipython",
    "version": 3
   },
   "file_extension": ".py",
   "mimetype": "text/x-python",
   "name": "python",
   "nbconvert_exporter": "python",
   "pygments_lexer": "ipython3",
   "version": "3.12.7"
  }
 },
 "nbformat": 4,
 "nbformat_minor": 5
}
