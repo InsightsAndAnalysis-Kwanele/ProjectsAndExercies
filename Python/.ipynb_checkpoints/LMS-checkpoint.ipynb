{
 "cells": [
  {
   "cell_type": "code",
   "execution_count": 28,
   "id": "7234b548-e6eb-4684-9b35-6b4fa914f1a3",
   "metadata": {},
   "outputs": [],
   "source": [
    "import csv\n",
    "\n",
    "file_path=\"MyBooks.csv\"\n",
    "\n",
    "\n",
    "class Book:\n",
    "     MyBooks=[[\"Title\",\"Author\",\"ISBN No\",\"Availability\"]]\n",
    "     num_of_Books=0\n",
    "    # creating the file\n",
    "     myFile=open(file_path,\"w\",newline=\"\")\n",
    "     addBook=csv.writer(myFile)\n",
    "     addBook.writerow(MyBooks[0])\n",
    "     myFile.close()\n",
    "\n",
    "    \n",
    "     def __init__(self,title,author,isbn,available):\n",
    "         self.title=title\n",
    "         self.author=author\n",
    "         self.isbn=isbn\n",
    "         self.available=available\n",
    "         Book.MyBooks.append([self.title,self.author,self.isbn,self.available])  #adding each book to the list\n",
    "         Book.num_of_Books+=1\n",
    "         \n",
    "\n",
    "\n",
    "     def __str__(self):\n",
    "         return f\"Name:{self.title}{'\\n'}Author:{self.author} {'\\n'}ISBN No:{self.isbn} {'\\n'}\"\n",
    "\n",
    "     def addBook(self):\n",
    "\n",
    "         #adding the book to the file\n",
    "         myFile=open(file_path,\"a\",newline=\"\")\n",
    "         addBook=csv.writer(myFile)\n",
    "         i=len(Book.MyBooks)-1\n",
    "         addBook.writerow(Book.MyBooks[i])\n",
    "         myFile.close()\n",
    "         \n",
    "patreon_file='MyPatreons.csv'\n",
    "class Patreon:\n",
    "    myPatreons=[['Patreon_ID','Name','Surname','Cellphone','Address']]\n",
    "    num_of_patreons=0\n",
    "    #creating the patreon file\n",
    "    myPatreonFile=open(patreon_file,'w',newline='')\n",
    "    writeMe=csv.writer(myPatreonFile)\n",
    "    writeMe.writerow(myPatreons[0])    \n",
    "    myPatreonFile.close()\n",
    "    \n",
    "\n",
    "    \n",
    "    def __init__(self,patreonId,name,surname,cellphone,address):\n",
    "        self.patreonId=patreonId\n",
    "        self.name=name\n",
    "        self.surname=surname\n",
    "        self.cellphone=cellphone\n",
    "        self.address=address\n",
    "        Patreon.myPatreons.append([self.patreonId,self.name,self.surname,self.cellphone,self.address])\n",
    "        num_of_patreons+=1\n",
    "\n",
    "    def __str__(self):\n",
    "        return f\"PatreonID:{self.patreonId}{'\\n'}Name:{self.name.capitalize()} {self.surname.capitalize()}{'\\n'}Cell Phone:{self.cellphone}{'\\n'}Address:{self.address}\"\n",
    " \n",
    "    def addPatreon(self):\n",
    "        #adding each patreon to the file\n",
    "        myPatreonFile=open(patreon_file,'a',newline='')\n",
    "        writeMe2=csv.writer(myPatreonFile)\n",
    "        i=len(Patreon.myPatreons)-1\n",
    "        writeMe2.writerow(Patreon.myPatreons[i])\n",
    "        myPatreonFile.close()\n",
    "        print(f\"{self.name.capitalize()} {self.surname.capitalize()} has been added to the sytem\")\n",
    "\n",
    "class Library:\n",
    "    availableBooks=[]\n",
    "    borrowedBooks=[]\n",
    "\n",
    "\n",
    "\n",
    "    @classmethod\n",
    "    def searchBook(cls,bookName):\n",
    "        #fetching the books from the file\n",
    "        books=\"MyBooks.csv\"\n",
    "        file=open(books,\"r\")\n",
    "        content=csv.reader(file)\n",
    "        for line in content:\n",
    "            cls.availableBooks.append(line)      \n",
    "        file.close()\n",
    "\n",
    "        #searching if book is avilable\n",
    "        bookControl=len(cls.availableBooks)-1\n",
    "        i=0\n",
    "        loopMe=True\n",
    "        found=False\n",
    "        while (i<=bookControl) and loopMe :\n",
    "            if cls.availableBooks[i][0].lower()==bookName.lower():\n",
    "                 found=True\n",
    "                 loopMe=False\n",
    "            else:\n",
    "                 found=False \n",
    "            i+=1\n",
    "        if found:\n",
    "            print(f'{bookName} is in the system')\n",
    "            print(\"List of books Available:\")\n",
    "            for books in cls.availableBooks:\n",
    "                  print(books[0],'          ',books[2])\n",
    "              \n",
    "        else:\n",
    "            print(f\"{bookName} is unavailable\")\n",
    "            for books in cls.availableBooks:\n",
    "                for book in books:\n",
    "                   print(book,end=\"                    \")\n",
    "                print()\n",
    "\n",
    "    @classmethod\n",
    "    def borrowBook(cls,patreon):\n",
    "        pass\n",
    "        \n"
   ]
  },
  {
   "cell_type": "code",
   "execution_count": 29,
   "id": "d9d4e632-a88e-430b-9faf-ec963a77de10",
   "metadata": {},
   "outputs": [
    {
     "name": "stdout",
     "output_type": "stream",
     "text": [
      "Kwanele Buthelezi has been added to the sytem\n",
      "\n",
      "PatreonID:1012834526\n",
      "Name:Kwanele Buthelezi\n",
      "Cell Phone:0607314124\n",
      "Address:1947A Ncwana Street\n"
     ]
    }
   ],
   "source": [
    "firstPatreon=Patreon(1012834526,'Kwanele','Buthelezi','0607314124','1947A Ncwana Street')\n",
    "firstPatreon.addPatreon()\n",
    "print()\n",
    "print(firstPatreon)"
   ]
  },
  {
   "cell_type": "code",
   "execution_count": 6,
   "id": "7d0886bd-3c4b-4695-975a-10925ad2baf5",
   "metadata": {},
   "outputs": [
    {
     "name": "stdout",
     "output_type": "stream",
     "text": [
      "Name:Harry Potter\n",
      "Author:JK Rowling \n",
      "ISBN No:165578920 \n",
      "\n",
      "\n",
      "[['Title', 'Author', 'ISBN No', 'Availability'], ['Harry Potter', 'JK Rowling', 165578920, True], ['50 shades Of Grey', 'Sam Johnson', 189955460, True], ['Glass Castle', 'Angelina Sanders', 144876279019, True]]\n"
     ]
    }
   ],
   "source": [
    "firstBook=Book(\"Harry Potter\",\"JK Rowling\",165578920,True)\n",
    "firstBook.addBook()\n",
    "secondBook=Book(\"50 shades Of Grey\",\"Sam Johnson\",189955460,True)\n",
    "secondBook.addBook()\n",
    "thirdBook=Book(\"Glass Castle\",\"Angelina Sanders\",144876279019,True)\n",
    "thirdBook.addBook()\n",
    "\n",
    "print(firstBook)\n",
    "print()\n",
    "print(Book.MyBooks)"
   ]
  },
  {
   "cell_type": "code",
   "execution_count": 53,
   "id": "14ecc9ca-d33c-48c3-a8e4-93e23ee8987b",
   "metadata": {},
   "outputs": [
    {
     "name": "stdin",
     "output_type": "stream",
     "text": [
      "WOULD YOU LIKE TO ADD('add') ,SEARCH('search') OR REMOVE('remove') A BOOK FROM THE SYSTEM: search\n",
      "Enter name of Book: Harry potter\n"
     ]
    },
    {
     "name": "stdout",
     "output_type": "stream",
     "text": [
      "Harry potter is in the system\n",
      "List of books Available:\n",
      "Title            ISBN No\n",
      "Harry Potter            165578920\n",
      "50 shades Of Grey            189955460\n",
      "Glass Castle            144876279019\n"
     ]
    },
    {
     "name": "stdin",
     "output_type": "stream",
     "text": [
      "Would you like perform another query on the books(yes/no): no\n"
     ]
    },
    {
     "name": "stdout",
     "output_type": "stream",
     "text": [
      "since no proper specification was made we are completing the profram\n"
     ]
    }
   ],
   "source": [
    "# query=input(\"WOULD YOU LIKE TO ADD('add') ,SEARCH('search') OR REMOVE('remove') A BOOK FROM THE SYSTEM:\")\n",
    "#print(\"Type 'add' to add a book,'search' to search for a particular book or 'remove' to remove a particular book\")\n",
    "book_query=True\n",
    "while book_query:\n",
    "    query=input(\"WOULD YOU LIKE TO ADD('add') ,SEARCH('search'),BORROW('borrow') OR REMOVE('remove') A BOOK FROM THE SYSTEM:\")\n",
    "    if query.lower()==\"add\":\n",
    "        error=True\n",
    "        while error:\n",
    "            try:\n",
    "                title=input(\"Enter the title of the book:\")\n",
    "                author=input(\"Please enter name of author:\")\n",
    "                isbn_no=int(input(\"Please enter ISBN number:\"))\n",
    "                availability=True\n",
    "                myBook=Book(title,author,isbn_no,availability)\n",
    "                print()\n",
    "                print(\"Book has been added\")\n",
    "                print(myBook)\n",
    "                myBook.addBook()\n",
    "                error=False\n",
    "                print()\n",
    "            except:\n",
    "                print(\"Something went wrong please enter book details again\")\n",
    "                print()\n",
    "                error=True\n",
    "    \n",
    "    elif query.lower()=='search':\n",
    "        bookquery=input(\"Enter name of Book:\")\n",
    "        Library.searchBook(bookName=bookquery)\n",
    "        \n",
    "    elif query.lower()=='remove':\n",
    "        pass\n",
    "\n",
    "    elif query.lower()=='borrow':\n",
    "        pass\n",
    "        \n",
    "    else:\n",
    "        book_query=True\n",
    "        print(\"NB! only enter 'add',borrow,'remove','search' properly\")\n",
    "    try:\n",
    "        query_book=input(\"Would you like perform another query on the books(yes/no):\")\n",
    "        if query_book.lower()=='yes':\n",
    "            book_query=True\n",
    "        else:\n",
    "            book_query=False\n",
    "            print(\"since no proper specification was made we are completing the profram\")\n",
    "    except:\n",
    "        print(\"since no proper specification was made we are completing the profram\")\n",
    "        book_query=False\n",
    "            \n",
    "        \n",
    "\n",
    " \n",
    "        "
   ]
  },
  {
   "cell_type": "code",
   "execution_count": 7,
   "id": "ff3d9066-a21f-4f13-be43-1e65cee2cfb7",
   "metadata": {},
   "outputs": [
    {
     "name": "stdout",
     "output_type": "stream",
     "text": [
      "Glass Castle is in the system\n",
      "List of books Available:\n",
      "Title            ISBN No\n",
      "Harry Potter            165578920\n",
      "50 shades Of Grey            189955460\n",
      "Glass Castle            144876279019\n"
     ]
    }
   ],
   "source": [
    "Library.searchBook(bookName=\"Glass Castle\")"
   ]
  },
  {
   "cell_type": "code",
   "execution_count": 38,
   "id": "c65404f0-72ca-4774-a1ad-d1263c53b150",
   "metadata": {},
   "outputs": [
    {
     "name": "stdout",
     "output_type": "stream",
     "text": [
      "[['Title', 'Author', 'ISBN No', 'Availability'], ['Title', 'Author', 'ISBN No', 'Availability'], ['Harry Potter', 'JK Rowling', '165578920', 'True'], ['50 shades Of Grey', 'Sam Johnson', '189955460', 'True'], ['Glass Castle', 'Angelina Sanders', '144876279019', 'True']]\n"
     ]
    }
   ],
   "source": [
    "print(Library.availableBooks)"
   ]
  },
  {
   "cell_type": "code",
   "execution_count": null,
   "id": "991b5409-fdfe-48f9-b02f-9a7fa4e6ce80",
   "metadata": {},
   "outputs": [],
   "source": []
  }
 ],
 "metadata": {
  "kernelspec": {
   "display_name": "Python 3 (ipykernel)",
   "language": "python",
   "name": "python3"
  },
  "language_info": {
   "codemirror_mode": {
    "name": "ipython",
    "version": 3
   },
   "file_extension": ".py",
   "mimetype": "text/x-python",
   "name": "python",
   "nbconvert_exporter": "python",
   "pygments_lexer": "ipython3",
   "version": "3.12.7"
  }
 },
 "nbformat": 4,
 "nbformat_minor": 5
}
