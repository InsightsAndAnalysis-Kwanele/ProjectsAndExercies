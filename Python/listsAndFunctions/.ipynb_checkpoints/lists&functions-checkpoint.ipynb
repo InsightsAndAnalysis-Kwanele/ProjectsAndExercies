{
 "cells": [
  {
   "cell_type": "code",
   "execution_count": null,
   "id": "228a706b-28c1-4be6-bc4a-1eef1d3b007c",
   "metadata": {},
   "outputs": [],
   "source": [
    "print(97%3)"
   ]
  },
  {
   "cell_type": "code",
   "execution_count": 12,
   "id": "a9934840-b91b-40bb-b8a0-9f50f64cf2df",
   "metadata": {},
   "outputs": [
    {
     "name": "stdout",
     "output_type": "stream",
     "text": [
      "[3, 2, 1]\n",
      "[1, 2, 3]\n",
      "3\n"
     ]
    }
   ],
   "source": [
    "list=[1,2,3]\n",
    "\n",
    "rList=list[::-1]\n",
    "\n",
    "print(rList)\n",
    "print(list)\n",
    "print(len(list))"
   ]
  },
  {
   "cell_type": "code",
   "execution_count": 7,
   "id": "ad171ed5-a04d-4f2e-9bcd-e7de39e1b1d6",
   "metadata": {},
   "outputs": [
    {
     "data": {
      "text/plain": [
       "False"
      ]
     },
     "execution_count": 7,
     "metadata": {},
     "output_type": "execute_result"
    }
   ],
   "source": [
    "def is_palidrome(list):\n",
    "    otherList=list[::-1]\n",
    "    if otherList==list:\n",
    "        return True\n",
    "    else:\n",
    "        return False\n",
    "\n",
    "is_palidrome(\"madam\")"
   ]
  },
  {
   "cell_type": "code",
   "execution_count": 8,
   "id": "d30b076b-a901-465c-b3be-8cfd1b63a583",
   "metadata": {},
   "outputs": [
    {
     "name": "stdout",
     "output_type": "stream",
     "text": [
      "number of vowels: 3\n"
     ]
    }
   ],
   "source": [
    "def count_vowel(nameGiven):\n",
    "    i=len(nameGiven)-1\n",
    "    numOfVowels=0\n",
    "    while i>=0 :\n",
    "        if nameGiven[i] in ['a','e','i','o','u'] :\n",
    "            numOfVowels+=1\n",
    "        i-=1\n",
    "    return f\"number of vowels: {numOfVowels}\"\n",
    "\n",
    "print(count_vowel('Kwanele'))\n",
    "    "
   ]
  },
  {
   "cell_type": "code",
   "execution_count": 11,
   "id": "8fe5b785-8300-42fa-bb90-908b787ed33c",
   "metadata": {},
   "outputs": [
    {
     "name": "stdout",
     "output_type": "stream",
     "text": [
      "Sum of all numbers from 1 to 10: 55 units\n"
     ]
    }
   ],
   "source": [
    "def sum_of_numbers(theNumber):\n",
    "    sumOfTheNumber=0\n",
    "    i=theNumber\n",
    "    while i>0:\n",
    "        sumOfTheNumber+=i\n",
    "        i-=1\n",
    "    return f\"Sum of all numbers from 1 to {theNumber}: {sumOfTheNumber} units\"\n",
    "\n",
    "print(sum_of_numbers(10))"
   ]
  },
  {
   "cell_type": "code",
   "execution_count": 20,
   "id": "dc054314-2bdc-43ea-8360-3efab9f6136f",
   "metadata": {},
   "outputs": [
    {
     "name": "stdout",
     "output_type": "stream",
     "text": [
      "max Value in the list is: -5\n"
     ]
    }
   ],
   "source": [
    "def find_Max(gList):\n",
    "    maxValue=gList[0]\n",
    "    i=len(gList)-1\n",
    "    while i>=0:\n",
    "        if maxValue<gList[i]:\n",
    "            maxValue=gList[i]\n",
    "        i-=1\n",
    "    return maxValue\n",
    "\n",
    "givenList=[-5,-58,-96,-105,-34,-67,-12,-15]\n",
    "\n",
    "print(f'max Value in the list is: {find_Max(givenList)}')"
   ]
  },
  {
   "cell_type": "code",
   "execution_count": null,
   "id": "6fe523e0-8c3c-4987-be30-44939946b709",
   "metadata": {},
   "outputs": [],
   "source": [
    "def remove_duplicate(myList):\n",
    "    newList=[]\n",
    "    i=len(myList)-1\n",
    "    while i>=0:\n",
    "        if myList[i] in newList:\n",
    "            continue\n",
    "        else:\n",
    "            newList.append(myList[i])\n",
    "        i-=1\n",
    "    cleanList=newList[::-1]\n",
    "    return cleanList\n",
    "\n",
    "thisList=[1, 2, 3, 1, 2, 4]\n",
    "print(f\"OG list:{thisList}'\\n'New list:{remove_duplicate(thisList)}\")"
   ]
  },
  {
   "cell_type": "code",
   "execution_count": null,
   "id": "c38e05e9-0d30-4bdc-9dde-013d71746d5a",
   "metadata": {},
   "outputs": [],
   "source": []
  },
  {
   "cell_type": "code",
   "execution_count": null,
   "id": "edc6e7ab-8310-4c6a-9a54-8795ad89984a",
   "metadata": {},
   "outputs": [],
   "source": []
  }
 ],
 "metadata": {
  "kernelspec": {
   "display_name": "Python 3 (ipykernel)",
   "language": "python",
   "name": "python3"
  },
  "language_info": {
   "codemirror_mode": {
    "name": "ipython",
    "version": 3
   },
   "file_extension": ".py",
   "mimetype": "text/x-python",
   "name": "python",
   "nbconvert_exporter": "python",
   "pygments_lexer": "ipython3",
   "version": "3.12.7"
  }
 },
 "nbformat": 4,
 "nbformat_minor": 5
}
