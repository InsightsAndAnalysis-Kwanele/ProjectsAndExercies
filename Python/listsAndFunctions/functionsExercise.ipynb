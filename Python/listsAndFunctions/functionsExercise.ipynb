{
 "cells": [
  {
   "cell_type": "code",
   "execution_count": 1,
   "id": "fb817f67-f9ed-4195-a495-06824bf6cb15",
   "metadata": {},
   "outputs": [
    {
     "name": "stdout",
     "output_type": "stream",
     "text": [
      "OG list:[1, 2, 3, 1, 2, 4]\n",
      "New list:[3, 1, 2, 4]\n"
     ]
    }
   ],
   "source": [
    "def remove_duplicate(myList):\n",
    "    newList=[]\n",
    "    i=len(myList)-1\n",
    "    while i>=0:\n",
    "        if myList[i] not in newList:\n",
    "            newList.append(myList[i])\n",
    "        i-=1\n",
    "    cleanList=newList[::-1]\n",
    "    return cleanList\n",
    "\n",
    "thisList=[1, 2, 3, 1, 2, 4]\n",
    "print(f\"OG list:{thisList}\\nNew list:{remove_duplicate(thisList)}\")"
   ]
  },
  {
   "cell_type": "code",
   "execution_count": null,
   "id": "de7285ca-31de-408e-94f6-ad1c44d71f76",
   "metadata": {},
   "outputs": [],
   "source": []
  }
 ],
 "metadata": {
  "kernelspec": {
   "display_name": "Python 3 (ipykernel)",
   "language": "python",
   "name": "python3"
  },
  "language_info": {
   "codemirror_mode": {
    "name": "ipython",
    "version": 3
   },
   "file_extension": ".py",
   "mimetype": "text/x-python",
   "name": "python",
   "nbconvert_exporter": "python",
   "pygments_lexer": "ipython3",
   "version": "3.12.7"
  }
 },
 "nbformat": 4,
 "nbformat_minor": 5
}
