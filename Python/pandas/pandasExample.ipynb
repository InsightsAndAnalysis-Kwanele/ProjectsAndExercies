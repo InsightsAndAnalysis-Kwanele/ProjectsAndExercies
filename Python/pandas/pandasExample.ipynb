{
 "cells": [
  {
   "cell_type": "code",
   "execution_count": null,
   "id": "7f59d5c2-4c0e-4594-a7ab-3e075618c2c4",
   "metadata": {},
   "outputs": [],
   "source": [
    "import pandas as pd\n",
    "\n",
    "data = {\n",
    "    'Name': ['Alice', 'Bob', 'Charlie', 'David', 'Ella'],\n",
    "    'Age': [24, 27, 22, 32, 29],\n",
    "    'Department': ['HR', 'IT', 'Finance', 'Marketing', 'HR'],\n",
    "    'Salary': [50000, 60000, 55000, 58000, 52000]\n",
    "}\n",
    "\n",
    "\n",
    "df=pd.read_json(data)\n",
    "print(pd.head(3))\n",
    "\n",
    "print(df.describe())"
   ]
  },
  {
   "cell_type": "code",
   "execution_count": null,
   "id": "7084145e-2bf4-48dd-b86f-ed28a1d347b1",
   "metadata": {},
   "outputs": [],
   "source": []
  }
 ],
 "metadata": {
  "kernelspec": {
   "display_name": "Python 3 (ipykernel)",
   "language": "python",
   "name": "python3"
  },
  "language_info": {
   "codemirror_mode": {
    "name": "ipython",
    "version": 3
   },
   "file_extension": ".py",
   "mimetype": "text/x-python",
   "name": "python",
   "nbconvert_exporter": "python",
   "pygments_lexer": "ipython3",
   "version": "3.12.7"
  }
 },
 "nbformat": 4,
 "nbformat_minor": 5
}
