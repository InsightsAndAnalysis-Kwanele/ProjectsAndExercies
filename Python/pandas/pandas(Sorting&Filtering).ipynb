{
 "cells": [
  {
   "cell_type": "code",
   "execution_count": 2,
   "id": "ab398bf8-e5ee-49bf-b479-206be87d49d5",
   "metadata": {},
   "outputs": [
    {
     "name": "stdout",
     "output_type": "stream",
     "text": [
      "l\n"
     ]
    }
   ],
   "source": [
    "print('l')"
   ]
  },
  {
   "cell_type": "code",
   "execution_count": 7,
   "id": "66cca6f6-1d6e-4019-ab30-428ec6f2fe6e",
   "metadata": {},
   "outputs": [
    {
     "name": "stdout",
     "output_type": "stream",
     "text": [
      "      Name  Age Department  Salary\n",
      "0    Alice   24         HR   50000\n",
      "1      Bob   27         IT   60000\n",
      "2  Charlie   22    Finance   55000\n",
      "             Age        Salary\n",
      "count   5.000000      5.000000\n",
      "mean   26.800000  55000.000000\n",
      "std     3.962323   4123.105626\n",
      "min    22.000000  50000.000000\n",
      "25%    24.000000  52000.000000\n",
      "50%    27.000000  55000.000000\n",
      "75%    29.000000  58000.000000\n",
      "max    32.000000  60000.000000\n"
     ]
    }
   ],
   "source": [
    "import pandas as pd\n",
    "\n",
    "data = {\n",
    "    'Name': ['Alice', 'Bob', 'Charlie', 'David', 'Ella'],\n",
    "    'Age': [24, 27, 22, 32, 29],\n",
    "    'Department': ['HR', 'IT', 'Finance', 'Marketing', 'HR'],\n",
    "    'Salary': [50000, 60000, 55000, 58000, 52000]\n",
    "}\n",
    "\n",
    "\n",
    "df=pd.DataFrame(data)\n",
    "print(df.head(3))\n",
    "\n",
    "print(df.describe())"
   ]
  },
  {
   "cell_type": "code",
   "execution_count": 11,
   "id": "5048d2c5-33e6-4674-8da1-e24b64dd3735",
   "metadata": {},
   "outputs": [
    {
     "name": "stdout",
     "output_type": "stream",
     "text": [
      "    Name  Age Department  Salary\n",
      "0  Alice   24         HR   50000\n",
      "4   Ella   29         HR   52000\n",
      "      Name  Age Department  Salary\n",
      "0    Alice   24         HR   50000\n",
      "4     Ella   29         HR   52000\n",
      "2  Charlie   22    Finance   55000\n",
      "3    David   32  Marketing   58000\n",
      "1      Bob   27         IT   60000\n"
     ]
    }
   ],
   "source": [
    "print(df[df['Department']=='HR'].to_string())\n",
    "print(df.sort_values(by='Salary'))"
   ]
  },
  {
   "cell_type": "code",
   "execution_count": 15,
   "id": "327a7472-834d-4e27-9c80-0362a5215b69",
   "metadata": {},
   "outputs": [
    {
     "name": "stdout",
     "output_type": "stream",
     "text": [
      "   Name  Age Department  Salary\n",
      "1  Jane   34    Finance   58000\n",
      "4   Tom   31    Finance   63000\n",
      "2  Mike   26    Finance   60000\n"
     ]
    }
   ],
   "source": [
    "data = {\n",
    "    'Name': ['John', 'Jane', 'Mike', 'Anna', 'Tom'],\n",
    "    'Age': [28, 34, 26, 45, 31],\n",
    "    'Department': ['IT', 'Finance', 'Finance', 'HR', 'Finance'],\n",
    "    'Salary': [62000, 58000, 60000, 65000, 63000]\n",
    "}\n",
    "\n",
    "df=pd.DataFrame(data)\n",
    "filtDF=df[df['Department']=='Finance']\n",
    "sortDF=filtDF.sort_values(by='Age')\n",
    "print(sortDF.to_string())\n"
   ]
  },
  {
   "cell_type": "code",
   "execution_count": 23,
   "id": "97e3252e-9abb-4aee-8aa3-05ac7f1c2107",
   "metadata": {},
   "outputs": [
    {
     "name": "stdout",
     "output_type": "stream",
     "text": [
      "    Name  Age Department  Salary\n",
      "1    Bob   27         IT   60000\n",
      "3  David   32  Marketing   58000\n"
     ]
    }
   ],
   "source": [
    "data = {\n",
    "    'Name': ['Alice', 'Bob', 'Charlie', 'David', 'Ella'],\n",
    "    'Age': [24, 27, 22, 32, 29],\n",
    "    'Department': ['HR', 'IT', 'Finance', 'Marketing', 'HR'],\n",
    "    'Salary': [50000, 60000, 55000, 58000, 52000]\n",
    "}\n",
    "\n",
    "\n",
    "df=pd.DataFrame(data)\n",
    "\n",
    "\n",
    "\n",
    "\n",
    "filtDF=df[(df['Age']>25) & ((df['Department']=='IT') | (df['Department']=='Marketing'))]\n",
    "sortDF=filtDF.sort_values(by='Salary',ascending=False)\n",
    "print(sortDF.to_string())"
   ]
  },
  {
   "cell_type": "code",
   "execution_count": 27,
   "id": "536333c4-6737-436e-a113-8bc83fbf813f",
   "metadata": {},
   "outputs": [
    {
     "name": "stdout",
     "output_type": "stream",
     "text": [
      "      Name  Age Department  Salary\n",
      "0    Alice   24         HR   50000\n",
      "2  Charlie   22    Finance   55000\n",
      "4     Ella   29         HR   52000\n"
     ]
    }
   ],
   "source": [
    "filtDF=df[(df['Department']=='HR') | (df['Department']=='Finance')]\n",
    "sortDF=filtDF.sort_values(by='Name')\n",
    "print(sortDF.to_string())"
   ]
  },
  {
   "cell_type": "code",
   "execution_count": 56,
   "id": "0e318b71-f000-4cb7-bac5-0f7fd0d8f5b7",
   "metadata": {},
   "outputs": [
    {
     "name": "stdout",
     "output_type": "stream",
     "text": [
      "Average Salary Per Department \n",
      "Department\n",
      "Finance      55000.0\n",
      "HR           51000.0\n",
      "IT           60000.0\n",
      "Marketing    58000.0\n",
      "Average Age per department\n",
      "Department\n",
      "Finance      22.0\n",
      "HR           26.5\n",
      "IT           27.0\n",
      "Marketing    32.0\n"
     ]
    }
   ],
   "source": [
    "groupDFSalary=df.groupby('Department')['Salary'].mean()\n",
    "groupDFAge=df.groupby('Department')['Age'].mean()\n",
    "print(f'Average Salary Per Department \\n{groupDFSalary.to_string()}\\nAverage Age per department\\n{groupDFAge.to_string()}')"
   ]
  },
  {
   "cell_type": "code",
   "execution_count": 48,
   "id": "50aa9126-b6ad-497b-a2dd-bab8ad900056",
   "metadata": {},
   "outputs": [
    {
     "name": "stdout",
     "output_type": "stream",
     "text": [
      "Department\n",
      "Finance      1\n",
      "HR           2\n",
      "IT           1\n",
      "Marketing    1\n"
     ]
    }
   ],
   "source": [
    "groupDF=df.groupby('Department')['Department'].count()\n",
    "print(groupDF.to_string())"
   ]
  },
  {
   "cell_type": "code",
   "execution_count": 62,
   "id": "4c4a84fe-a128-4996-847d-0635a1c662ad",
   "metadata": {},
   "outputs": [
    {
     "name": "stdout",
     "output_type": "stream",
     "text": [
      "            Salary  Age\n",
      "Department             \n",
      "Finance      55000   22\n",
      "HR           52000   24\n",
      "IT           60000   27\n",
      "Marketing    58000   32\n"
     ]
    }
   ],
   "source": [
    "groupDfSalary=df.groupby('Department')['Salary'].max()\n",
    "groupDfAge=df.groupby('Department')['Age'].min()\n",
    "#print(f'Maximum Salary Per Deparment\\n{groupDfSalary.to_string()}\\n\\nYoungest Age Group in each department\\n{groupDfAge.to_string()}')\n",
    "print(pd.merge(groupDfSalary,groupDfAge,on='Department'))\n",
    "#is there a way to show the max salary and min age in the same table,next to each other"
   ]
  },
  {
   "cell_type": "code",
   "execution_count": 60,
   "id": "d0265b53-4355-4a12-beaa-6a95da92c8fa",
   "metadata": {},
   "outputs": [
    {
     "name": "stdout",
     "output_type": "stream",
     "text": [
      "            Max_Salary  Min_Age\n",
      "Department                     \n",
      "Finance          55000       22\n",
      "HR               52000       24\n",
      "IT               60000       27\n",
      "Marketing        58000       32\n"
     ]
    }
   ],
   "source": [
    "groupDF = df.groupby('Department').agg(\n",
    "    Max_Salary=('Salary', 'max'),\n",
    "    Min_Age=('Age', 'min')\n",
    ")\n",
    "\n",
    "print(groupDF)"
   ]
  },
  {
   "cell_type": "code",
   "execution_count": 65,
   "id": "312c6e4a-12bb-4f21-923b-f58b85d31380",
   "metadata": {},
   "outputs": [
    {
     "name": "stdout",
     "output_type": "stream",
     "text": [
      "            Total_Sal_Per_Department  Avg_Age_Per_Department\n",
      "Department                                                  \n",
      "Finance                        55000                    22.0\n",
      "HR                            102000                    26.5\n",
      "IT                             60000                    27.0\n",
      "Marketing                      58000                    32.0\n"
     ]
    }
   ],
   "source": [
    "newGroupDF=df.groupby('Department').agg(\n",
    "    Total_Sal_Per_Department=('Salary','sum'),\n",
    "    Avg_Age_Per_Department=('Age','mean')    \n",
    ")\n",
    "\n",
    "print(newGroupDF.to_string())"
   ]
  },
  {
   "cell_type": "code",
   "execution_count": 6,
   "id": "719f9300-2da7-4746-95d3-955bec5536f7",
   "metadata": {},
   "outputs": [
    {
     "name": "stdout",
     "output_type": "stream",
     "text": [
      "            Num_Of_Employees_Per_Department  Highest_Sal_Per_Department\n",
      "Department                                                             \n",
      "Finance                                   3                       63000\n",
      "HR                                        1                       65000\n",
      "IT                                        1                       62000\n"
     ]
    }
   ],
   "source": [
    "import pandas as pd\n",
    "data = {\n",
    "    'Name': ['John', 'Jane', 'Mike', 'Anna', 'Tom'],\n",
    "    'Age': [28, 34, 26, 45, 31],\n",
    "    'Department': ['IT', 'Finance', 'Finance', 'HR', 'Finance'],\n",
    "    'Salary': [62000, 58000, 60000, 65000, 63000]\n",
    "}\n",
    "\n",
    "df=pd.DataFrame(data)\n",
    "SummDf=df.groupby(by='Department').agg(\n",
    "    Num_Of_Employees_Per_Department=('Name','count'),\n",
    "    Highest_Sal_Per_Department=('Salary','max')\n",
    "    \n",
    ")\n",
    "print(SummDf.to_string())"
   ]
  },
  {
   "cell_type": "code",
   "execution_count": 10,
   "id": "4224a1af-6cc3-456c-bacf-fd76bb9afd77",
   "metadata": {},
   "outputs": [
    {
     "name": "stdout",
     "output_type": "stream",
     "text": [
      "            Avg_Salary  Num_Employees  Avg_Age\n",
      "Department                                    \n",
      "HR             51000.0              2     26.5\n",
      "IT             60000.0              1     27.0\n",
      "Marketing      58000.0              1     32.0\n"
     ]
    }
   ],
   "source": [
    "data = {\n",
    "    'Name': ['Alice', 'Bob', 'Charlie', 'David', 'Ella'],\n",
    "    'Age': [24, 27, 22, 32, 29],\n",
    "    'Department': ['HR', 'IT', 'Finance', 'Marketing', 'HR'],\n",
    "    'Salary': [50000, 60000, 55000, 58000, 52000]\n",
    "}\n",
    "\n",
    "\n",
    "df=pd.DataFrame(data)\n",
    "\n",
    "grpDF=df.groupby(by='Department').agg(\n",
    "    Avg_Salary=('Salary','mean'),\n",
    "    Num_Employees=('Name','count'),\n",
    "    Avg_Age=('Age','mean')\n",
    ")\n",
    "print(grpDF[grpDF['Avg_Age']>25])"
   ]
  },
  {
   "cell_type": "code",
   "execution_count": 16,
   "id": "e2ccf9b1-6921-4a66-8f11-f17566873536",
   "metadata": {},
   "outputs": [
    {
     "name": "stdout",
     "output_type": "stream",
     "text": [
      "            Tot_Salary_Department  Max_age_hired  Min_Salary_Payed  Num_Of_employees\n",
      "Department                                                                          \n",
      "Finance                     55000             22             55000                 1\n",
      "IT                          60000             27             60000                 1\n",
      "Marketing                   58000             32             58000                 1\n"
     ]
    }
   ],
   "source": [
    "grpDF=df.groupby(by='Department').agg(\n",
    "    Tot_Salary_Department=('Salary','sum'),\n",
    "    Max_age_hired=('Age','max'),\n",
    "    Min_Salary_Payed=('Salary','min'),\n",
    "    Num_Of_employees=('Name','count')\n",
    "    \n",
    ")\n",
    "\n",
    "print(grpDF[grpDF['Num_Of_employees']==1].to_string())"
   ]
  },
  {
   "cell_type": "code",
   "execution_count": 20,
   "id": "0151150a-c2a9-499e-914d-4c7c0a32400b",
   "metadata": {},
   "outputs": [
    {
     "name": "stdout",
     "output_type": "stream",
     "text": [
      "            Avg_Salary  Stdv_Salary  Avg_Age\n",
      "Department                                  \n",
      "Marketing      58000.0          NaN     32.0\n",
      "IT             60000.0          NaN     27.0\n",
      "HR             51000.0  1414.213562     26.5\n",
      "Finance        55000.0          NaN     22.0\n"
     ]
    }
   ],
   "source": [
    "\n",
    "newGDF=df.groupby(by='Department').agg(\n",
    "    Avg_Salary=('Salary','mean'),\n",
    "    Stdv_Salary=('Salary','std'),\n",
    "    Avg_Age=('Age','mean')\n",
    "   \n",
    ")\n",
    "\n",
    "print(newGDF.sort_values(by='Avg_Age',ascending=False))"
   ]
  },
  {
   "cell_type": "code",
   "execution_count": null,
   "id": "f59aec8a-b590-42aa-a4c1-2879b4fc99b9",
   "metadata": {},
   "outputs": [],
   "source": []
  }
 ],
 "metadata": {
  "kernelspec": {
   "display_name": "Python 3 (ipykernel)",
   "language": "python",
   "name": "python3"
  },
  "language_info": {
   "codemirror_mode": {
    "name": "ipython",
    "version": 3
   },
   "file_extension": ".py",
   "mimetype": "text/x-python",
   "name": "python",
   "nbconvert_exporter": "python",
   "pygments_lexer": "ipython3",
   "version": "3.12.7"
  }
 },
 "nbformat": 4,
 "nbformat_minor": 5
}
