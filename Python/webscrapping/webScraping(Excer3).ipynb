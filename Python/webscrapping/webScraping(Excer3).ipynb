{
 "cells": [
  {
   "cell_type": "code",
   "execution_count": 2,
   "id": "01a42915-c03a-4a54-b848-4dbd1e55cce6",
   "metadata": {},
   "outputs": [
    {
     "name": "stdout",
     "output_type": "stream",
     "text": [
      "l\n"
     ]
    }
   ],
   "source": [
    "from bs4 import BeautifulSoup as btS\n",
    "import requests\n",
    "import pandas as pd\n",
    "print('l')"
   ]
  },
  {
   "cell_type": "code",
   "execution_count": 9,
   "id": "cb33e931-0977-4a40-8d83-501d784ed1dd",
   "metadata": {},
   "outputs": [],
   "source": [
    "url=r\"https://en.wikipedia.org/wiki/List_of_best-selling_automobiles\"\n",
    "\n",
    "wepage=requests.get(url)"
   ]
  },
  {
   "cell_type": "code",
   "execution_count": 69,
   "id": "2569cf0b-30e1-4622-b377-a2bf191b1012",
   "metadata": {},
   "outputs": [],
   "source": [
    "soup=btS(wepage.text,'html')\n"
   ]
  },
  {
   "cell_type": "code",
   "execution_count": 45,
   "id": "7f5c9587-f31d-4e6f-86b4-b93ef82ea474",
   "metadata": {},
   "outputs": [],
   "source": [
    "carTable=soup.find('table',class_='wikitable sortable plainrowheaders')\n",
    "#carTable"
   ]
  },
  {
   "cell_type": "code",
   "execution_count": 70,
   "id": "fd673568-5b09-4c97-84f2-7e38921b1982",
   "metadata": {},
   "outputs": [
    {
     "name": "stdout",
     "output_type": "stream",
     "text": [
      "['Automobile', 'Production', 'Units sold', 'Notes']\n"
     ]
    }
   ],
   "source": [
    "#getting the headers\n",
    "top=carTable.find_all('th')\n",
    "tblHeaders=[head.text.strip() for head in top[1:5]]\n",
    "print(tblHeaders)"
   ]
  },
  {
   "cell_type": "code",
   "execution_count": 67,
   "id": "1031e5c4-c51f-4240-890b-df3fb94656fe",
   "metadata": {},
   "outputs": [],
   "source": [
    "#getting the entire table\n",
    "carlist=[]\n",
    "tblRows=carTable.find_all('tr')[1:]\n",
    "for data in tblRows:\n",
    "    eachR=data.find_all(['td','th'])\n",
    "    dList=[c.text.strip() for c in eachR]\n",
    "    carlist.append(dList[1:])\n",
    "\n",
    "#tblRows[1].find_all('td')[2].text.strip()\n"
   ]
  },
  {
   "cell_type": "code",
   "execution_count": 71,
   "id": "1ffdd754-8b48-40e8-8d2c-822010fda891",
   "metadata": {},
   "outputs": [
    {
     "data": {
      "text/html": [
       "<div>\n",
       "<style scoped>\n",
       "    .dataframe tbody tr th:only-of-type {\n",
       "        vertical-align: middle;\n",
       "    }\n",
       "\n",
       "    .dataframe tbody tr th {\n",
       "        vertical-align: top;\n",
       "    }\n",
       "\n",
       "    .dataframe thead th {\n",
       "        text-align: right;\n",
       "    }\n",
       "</style>\n",
       "<table border=\"1\" class=\"dataframe\">\n",
       "  <thead>\n",
       "    <tr style=\"text-align: right;\">\n",
       "      <th></th>\n",
       "      <th>Automobile</th>\n",
       "      <th>Production</th>\n",
       "      <th>Units sold</th>\n",
       "      <th>Notes</th>\n",
       "    </tr>\n",
       "  </thead>\n",
       "  <tbody>\n",
       "    <tr>\n",
       "      <th>0</th>\n",
       "      <td>Ford Model T</td>\n",
       "      <td>1908–1927</td>\n",
       "      <td>16,500,000[8]</td>\n",
       "      <td>The first car to achieve one million, five mil...</td>\n",
       "    </tr>\n",
       "    <tr>\n",
       "      <th>1</th>\n",
       "      <td>Lada \"Classic\"</td>\n",
       "      <td>1970–2012[9]</td>\n",
       "      <td>17,750,000[10]</td>\n",
       "      <td>The number does not include the platform's arc...</td>\n",
       "    </tr>\n",
       "    <tr>\n",
       "      <th>2</th>\n",
       "      <td>Volkswagen Beetle</td>\n",
       "      <td>1938–2003</td>\n",
       "      <td>21,529,464[3]</td>\n",
       "      <td>The first car to achieve twenty million units ...</td>\n",
       "    </tr>\n",
       "    <tr>\n",
       "      <th>3</th>\n",
       "      <td>Toyota Corolla</td>\n",
       "      <td>1966–present</td>\n",
       "      <td>50,000,000 by 2021[2]</td>\n",
       "      <td>The 50 million milestone was reached in 2021. ...</td>\n",
       "    </tr>\n",
       "  </tbody>\n",
       "</table>\n",
       "</div>"
      ],
      "text/plain": [
       "          Automobile    Production             Units sold  \\\n",
       "0       Ford Model T     1908–1927          16,500,000[8]   \n",
       "1     Lada \"Classic\"  1970–2012[9]         17,750,000[10]   \n",
       "2  Volkswagen Beetle     1938–2003          21,529,464[3]   \n",
       "3     Toyota Corolla  1966–present  50,000,000 by 2021[2]   \n",
       "\n",
       "                                               Notes  \n",
       "0  The first car to achieve one million, five mil...  \n",
       "1  The number does not include the platform's arc...  \n",
       "2  The first car to achieve twenty million units ...  \n",
       "3  The 50 million milestone was reached in 2021. ...  "
      ]
     },
     "execution_count": 71,
     "metadata": {},
     "output_type": "execute_result"
    }
   ],
   "source": [
    "Cdf=pd.DataFrame(carlist,columns=tblHeaders)\n",
    "Cdf"
   ]
  },
  {
   "cell_type": "code",
   "execution_count": 74,
   "id": "8bc60c71-f76f-4ee0-95e4-54f66b1c166c",
   "metadata": {},
   "outputs": [],
   "source": [
    "Cdf.to_csv('TopGrossingCars.csv', index=False)"
   ]
  },
  {
   "cell_type": "code",
   "execution_count": null,
   "id": "a72e1df6-2f7d-4ffd-8c56-83c4e85c0965",
   "metadata": {},
   "outputs": [],
   "source": []
  }
 ],
 "metadata": {
  "kernelspec": {
   "display_name": "Python 3 (ipykernel)",
   "language": "python",
   "name": "python3"
  },
  "language_info": {
   "codemirror_mode": {
    "name": "ipython",
    "version": 3
   },
   "file_extension": ".py",
   "mimetype": "text/x-python",
   "name": "python",
   "nbconvert_exporter": "python",
   "pygments_lexer": "ipython3",
   "version": "3.12.7"
  }
 },
 "nbformat": 4,
 "nbformat_minor": 5
}
