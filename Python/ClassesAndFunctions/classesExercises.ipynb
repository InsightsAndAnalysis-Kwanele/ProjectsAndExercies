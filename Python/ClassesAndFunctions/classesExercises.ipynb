{
 "cells": [
  {
   "cell_type": "code",
   "execution_count": 16,
   "id": "3f6cfe32-ccd8-4ee1-a0cf-e32869cce7cd",
   "metadata": {},
   "outputs": [
    {
     "name": "stdout",
     "output_type": "stream",
     "text": [
      "Name:Kwanele, Age:22\n",
      "Happy Birthday Kwanele!🎉 you are now 23 years old,Keep Growing\n"
     ]
    }
   ],
   "source": [
    "class Person:\n",
    "    def __init__(self,name,age):\n",
    "        self.name=name\n",
    "        self.age=age\n",
    "        \n",
    "    def __str__(self):\n",
    "        return f\"Name:{self.name}, Age:{self.age}\"\n",
    "\n",
    "    def newbirthday(self):\n",
    "        self.age+=1\n",
    "        return f\"Happy Birthday {self.name}!🎉 you are now {self.age} years old,Keep Growing\"\n",
    "        \n",
    "\n",
    "person1=Person('Kwanele',22)\n",
    "print(person1)\n",
    "print(person1.newbirthday())"
   ]
  },
  {
   "cell_type": "code",
   "execution_count": 32,
   "id": "224d4c81-bd60-4c00-a9c0-61f2bc87acb2",
   "metadata": {},
   "outputs": [
    {
     "name": "stdout",
     "output_type": "stream",
     "text": [
      "Bank account holder: Kwanele\n",
      "Balance:200.05\n",
      "R200 withdwran,\n",
      "Balance:R0.05\n",
      "R708.9 depositted,\n",
      "New Balance:R708.95\n"
     ]
    }
   ],
   "source": [
    "class BankAccount:\n",
    "    def __init__(self,accountHolder,balance=0.0):\n",
    "        self.accountHolder=accountHolder\n",
    "        self.balance=balance\n",
    "\n",
    "    def __str__(self):\n",
    "        return f\"Bank account holder: {self.accountHolder}\\nBalance:{self.balance:.2f}\"\n",
    "\n",
    "    def depositFunds(self,amountDeposit):\n",
    "        if amountDeposit<0:\n",
    "            print('You can not deposit an amount less than 0(a negative number)')\n",
    "        elif amountDeposit==0 :\n",
    "            print(\"please you can not deposit R0\")\n",
    "        else:\n",
    "            self.balance+=amountDeposit\n",
    "            print(f\"R{amountDeposit} depositted,\\nNew Balance:R{self.balance:.2f}\")\n",
    "\n",
    "    def withdrawFunds(self,withdrawal):\n",
    "        if withdrawal<0:\n",
    "            print('Well you can not withdraw a negative amount')\n",
    "        elif self.balance<withdrawal:\n",
    "            print(\"Insufficient Funds\")\n",
    "        else:\n",
    "            self.balance-=withdrawal\n",
    "            print(f'R{withdrawal} withdwran,\\nBalance:R{self.balance:.2f}')\n",
    "\n",
    "newAccount=BankAccount(\"Kwanele\",200.05)\n",
    "print(newAccount)     \n",
    "newAccount.withdrawFunds(200)\n",
    "newAccount.depositFunds(708.9)\n",
    "        "
   ]
  },
  {
   "cell_type": "code",
   "execution_count": 45,
   "id": "12a2b273-8d22-422d-b48d-9d0b0b6a5119",
   "metadata": {},
   "outputs": [
    {
     "name": "stdout",
     "output_type": "stream",
     "text": [
      "Student:\n",
      "Name:Kwanele Buthelezi\n",
      "StudentID:2282112\n",
      "Grades:[]\n",
      "Student:\n",
      "Name:Kwanele Buthelezi\n",
      "StudentID:2282112\n",
      "Grades:[85, 68, 70, 73, 77]\n",
      "The students' Average is:74.60\n"
     ]
    }
   ],
   "source": [
    "class Student:\n",
    "    students=[]\n",
    "    numOfStudents=0\n",
    "    def __init__(self,name,studentID):\n",
    "        self.name=name\n",
    "        self.studentID=studentID\n",
    "        self.grades=[]\n",
    "        Student.numOfStudents+=1\n",
    "        Student.students.append(str(name)+' '+str(self.studentID))\n",
    "    def __str__(self):\n",
    "        return f\"Student:\\nName:{self.name}\\nStudentID:{self.studentID}\\nGrades:{self.grades}\"\n",
    "\n",
    "    def add_grades(self,addGrades):\n",
    "        if addGrades<0 or addGrades>100:\n",
    "            print('Grade has to be between 0 and 100')\n",
    "        else:\n",
    "            self.grades.append(addGrades)\n",
    "\n",
    "\n",
    "    def calc_Average(self):\n",
    "        total=len(self.grades)*100\n",
    "        sumOfGrades=0\n",
    "        i=len(self.grades)-1\n",
    "        while i>=0:\n",
    "            sumOfGrades+=self.grades[i]\n",
    "            i-=1\n",
    "        if total<=0 :\n",
    "            print('The grade list is empty')\n",
    "        else:\n",
    "            avgGrades=(sumOfGrades/total)*100\n",
    "        return float(avgGrades)\n",
    "\n",
    "newStudent=Student('Kwanele Buthelezi',2282112)\n",
    "print(newStudent)\n",
    "newStudent.add_grades(85)\n",
    "newStudent.add_grades(68)\n",
    "newStudent.add_grades(70)\n",
    "newStudent.add_grades(73)\n",
    "newStudent.add_grades(77)\n",
    "print(newStudent)\n",
    "print(f\"The students' Average is:{newStudent.calc_Average():.2f}\")"
   ]
  },
  {
   "cell_type": "code",
   "execution_count": null,
   "id": "a1ff030c-92ea-4855-84d6-99bc348decc6",
   "metadata": {},
   "outputs": [],
   "source": []
  }
 ],
 "metadata": {
  "kernelspec": {
   "display_name": "Python 3 (ipykernel)",
   "language": "python",
   "name": "python3"
  },
  "language_info": {
   "codemirror_mode": {
    "name": "ipython",
    "version": 3
   },
   "file_extension": ".py",
   "mimetype": "text/x-python",
   "name": "python",
   "nbconvert_exporter": "python",
   "pygments_lexer": "ipython3",
   "version": "3.12.7"
  }
 },
 "nbformat": 4,
 "nbformat_minor": 5
}
