{
 "cells": [
  {
   "cell_type": "code",
   "execution_count": 3,
   "id": "60eb692c-f238-4236-a570-d6ee32062c54",
   "metadata": {},
   "outputs": [],
   "source": [
    "class Book:     \n",
    "    L_books=[]\n",
    "    \n",
    "    def __init__(self,title,author,is_borrowed=False):\n",
    "        self.title=title\n",
    "        self.author=author\n",
    "        self.is_borrowed=is_borrowed\n",
    "        Book.L_books.append(title)\n",
    "        \n",
    "    def __str__(self):\n",
    "        if self.is_borrowed:\n",
    "            return f\"Book:{self.title}\\nStatus:Borrowed\"\n",
    "        else:\n",
    "             return f\"Book:{self.title}\\nStatus:Available\"\n",
    "\n",
    "    def borrow(self):\n",
    "        if self.is_borrowed:\n",
    "            print(f\"Sorry book '{self.title}' is currently unavalibale\")\n",
    "        else:\n",
    "            self.is_borrowed=True\n",
    "            print(f\"You have Borrowed Book '{self.title}'\")\n",
    "            \n",
    "    def return_book(self):\n",
    "        if self.is_borrowed:\n",
    "            self.is_borrowed=False\n",
    "            print(f\"You have returned Book '{self.title}' \")\n",
    "        else:\n",
    "            print(f\"Book '{self.title}' was never borrowed\")\n",
    "\n",
    "\n",
    "\n",
    "        \n",
    "\n",
    "\n"
   ]
  },
  {
   "cell_type": "code",
   "execution_count": 4,
   "id": "4c99d269-7bf1-40eb-8d16-b45991769c93",
   "metadata": {},
   "outputs": [
    {
     "name": "stdout",
     "output_type": "stream",
     "text": [
      "Book:The Great Gatsby\n",
      "Status:Available\n"
     ]
    }
   ],
   "source": [
    "newBook=Book(\"The Great Gatsby\", \"F. Scott Fitzgerald\")\n",
    "\n",
    "print(newBook)"
   ]
  },
  {
   "cell_type": "code",
   "execution_count": 5,
   "id": "49240fe6-196b-413c-be44-480043604ba9",
   "metadata": {},
   "outputs": [
    {
     "name": "stdout",
     "output_type": "stream",
     "text": [
      "You have Borrowed Book 'The Great Gatsby'\n",
      "Book:The Great Gatsby\n",
      "Status:Borrowed\n"
     ]
    }
   ],
   "source": [
    "newBook.borrow()\n",
    "print(newBook)"
   ]
  },
  {
   "cell_type": "code",
   "execution_count": 7,
   "id": "af63f5cc-65c9-47ad-b366-9a49b7e56d4d",
   "metadata": {},
   "outputs": [
    {
     "name": "stdout",
     "output_type": "stream",
     "text": [
      "Book 'The Great Gatsby' was never borrowed\n",
      "\n",
      "Book:The Great Gatsby\n",
      "Status:Available\n"
     ]
    }
   ],
   "source": [
    "newBook.return_book()\n",
    "print()\n",
    "print(newBook)"
   ]
  },
  {
   "cell_type": "code",
   "execution_count": 8,
   "id": "3c7292ce-4e77-409c-b542-40ea5685a27f",
   "metadata": {},
   "outputs": [
    {
     "name": "stdout",
     "output_type": "stream",
     "text": [
      "Employee:John Doe\n",
      "EmployeeID:1001\n",
      "Department:General\n",
      "Salary:R50000.00\n",
      "Congratulations you have a raise!\n",
      "New salary:R63000.0\n",
      "Raise:R13000\n",
      "Department changed to Finance.\n"
     ]
    }
   ],
   "source": [
    "class Employee:\n",
    "    def __init__(self,name,employee_ID,salary,department='General'):\n",
    "        self.name=name\n",
    "        self.employee_ID=employee_ID\n",
    "        self.salary=salary\n",
    "        self.department=department\n",
    "\n",
    "\n",
    "    def __str__(self):\n",
    "        return f\"Employee:{self.name}\\nEmployeeID:{self.employee_ID}\\nDepartment:{self.department}\\nSalary:R{self.salary:.2f}\"\n",
    "\n",
    "\n",
    "    def give_raise(self,amount):\n",
    "        if amount<=0:\n",
    "            print(\"Can not raise a person's salary by zero  anything below \")\n",
    "        else:\n",
    "            self.salary+=amount\n",
    "            print(f\"Congratulations you have a raise!\\nNew salary:R{self.salary}\\nRaise:R{amount}\")\n",
    "\n",
    "\n",
    "    def change_department(self,newDepartment):\n",
    "        if newDepartment=='':\n",
    "            print('String Department is empty, no new department give')\n",
    "        else:\n",
    "            self.department=newDepartment\n",
    "            print(f\"Department changed to {self.department}.\")\n",
    "\n",
    "newEmployee=Employee(\"John Doe\", 1001, 50000.00)   \n",
    "print(newEmployee)\n",
    "\n",
    "newEmployee.give_raise(13000)\n",
    "newEmployee.change_department('Finance')"
   ]
  },
  {
   "cell_type": "code",
   "execution_count": null,
   "id": "c50d6d2e-c310-4d9d-92d4-8ed2b65222b3",
   "metadata": {},
   "outputs": [],
   "source": []
  }
 ],
 "metadata": {
  "kernelspec": {
   "display_name": "Python 3 (ipykernel)",
   "language": "python",
   "name": "python3"
  },
  "language_info": {
   "codemirror_mode": {
    "name": "ipython",
    "version": 3
   },
   "file_extension": ".py",
   "mimetype": "text/x-python",
   "name": "python",
   "nbconvert_exporter": "python",
   "pygments_lexer": "ipython3",
   "version": "3.12.7"
  }
 },
 "nbformat": 4,
 "nbformat_minor": 5
}
