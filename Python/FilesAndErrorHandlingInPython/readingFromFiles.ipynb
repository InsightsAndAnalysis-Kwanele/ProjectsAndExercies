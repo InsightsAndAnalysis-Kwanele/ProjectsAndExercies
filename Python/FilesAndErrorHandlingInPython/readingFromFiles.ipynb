{
 "cells": [
  {
   "cell_type": "code",
   "execution_count": 2,
   "id": "3248f4bf-b0ff-4813-84f9-7175b10eb22d",
   "metadata": {},
   "outputs": [
    {
     "name": "stdout",
     "output_type": "stream",
     "text": [
      "file not found\n"
     ]
    }
   ],
   "source": [
    "try:\n",
    "    file_path=\"learner.txt\"   #reading from a text file\n",
    "    file=open(file_path,\"r\")\n",
    "    print(file.read())\n",
    "    file.close()\n",
    "\n",
    "\n",
    "\n",
    "except FileNotFoundError:\n",
    "    print(\"file not found\")"
   ]
  },
  {
   "cell_type": "code",
   "execution_count": 6,
   "id": "341e6066-0745-4698-a718-79a035c3dbdb",
   "metadata": {},
   "outputs": [
    {
     "name": "stdout",
     "output_type": "stream",
     "text": [
      "name : Kwanele\n",
      "module : PHYS101\n",
      "age : 20\n"
     ]
    }
   ],
   "source": [
    "import json   #reading from a json file\n",
    "\n",
    "try:\n",
    "    file_name=\"student.json\"\n",
    "    myfile=open(file_name,\"r\")\n",
    "    filecontents=json.load(myfile)\n",
    "    for x,y in filecontents.items():\n",
    "        print(f\"{x} : {y}\")\n",
    "    myfile.close()\n",
    "\n",
    "except FileNotFoundError:\n",
    "    print(\"file not found\")"
   ]
  },
  {
   "cell_type": "code",
   "execution_count": 20,
   "id": "9ca72584-0dbf-489a-b6ff-663b8cbb6aae",
   "metadata": {},
   "outputs": [
    {
     "name": "stdout",
     "output_type": "stream",
     "text": [
      "KRUSTY CRAB EMPLOYEES\n",
      "Name : Spongebob\n",
      "Age : 19\n",
      "Job : Chef\n",
      "\n",
      "Name : Sqiudward\n",
      "Age : 28\n",
      "Job : Cashier\n",
      "\n",
      "Name : Sandy\n",
      "Age : 20\n",
      "Job : Astrounought\n",
      "\n"
     ]
    }
   ],
   "source": [
    "import csv #reading from a csv file\n",
    "\n",
    "try:\n",
    "    file_name=\"employees.csv\"\n",
    "    myfile=open(file_name,\"r\")\n",
    "    employees=csv.DictReader(myfile)\n",
    "    #for line in contents:\n",
    "      # print(line)\n",
    "    print('KRUSTY CRAB EMPLOYEES')\n",
    "    for employee in employees:\n",
    "        for key,value in employee.items():   \n",
    "            print(f\"{key} : {value}\")\n",
    "        print()\n",
    "    myfile.close()\n",
    "\n",
    "except FileNotFoundError:\n",
    "    print(\"file not found\")"
   ]
  },
  {
   "cell_type": "code",
   "execution_count": null,
   "id": "f62a359a-fa11-4fd9-8105-9ab7e59ab6ad",
   "metadata": {},
   "outputs": [],
   "source": []
  }
 ],
 "metadata": {
  "kernelspec": {
   "display_name": "Python 3 (ipykernel)",
   "language": "python",
   "name": "python3"
  },
  "language_info": {
   "codemirror_mode": {
    "name": "ipython",
    "version": 3
   },
   "file_extension": ".py",
   "mimetype": "text/x-python",
   "name": "python",
   "nbconvert_exporter": "python",
   "pygments_lexer": "ipython3",
   "version": "3.12.7"
  }
 },
 "nbformat": 4,
 "nbformat_minor": 5
}
