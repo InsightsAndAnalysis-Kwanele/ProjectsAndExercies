{
 "cells": [
  {
   "cell_type": "code",
   "execution_count": 7,
   "id": "7ab9eab5-b8da-49e4-84ff-75f9126082e0",
   "metadata": {},
   "outputs": [
    {
     "name": "stdout",
     "output_type": "stream",
     "text": [
      "Int values:\n",
      "5\n",
      "\n",
      "15\n",
      "\n",
      "Error: Non-integer value found -> invalid literal for int() with base 10: '12z\\n'\n",
      "Can not compute the sum of remaining values\n",
      "code excecuted successfully\n",
      "\n",
      "Sum of int values in the file before error handling:20 units\n"
     ]
    }
   ],
   "source": [
    "file_path='numbers.txt'\n",
    "sumNum=0\n",
    "try:\n",
    "    file=open(file_path,'r',newline=\"\")\n",
    "    print('Int values:')\n",
    "    for textF in file:\n",
    "        sumNum+=int(textF)\n",
    "        print(textF)\n",
    "    file.close()\n",
    "    print(f\"Sum of the numbers in the file:{sumNum} units\")\n",
    "except FileNotFoundError:\n",
    "    print('----')\n",
    "    print('The File you are looking for is not in the system')\n",
    "except ValueError as e:\n",
    "    print(f'Error: Non-integer value found -> {e}')\n",
    "    print('Can not compute the sum of remaining values')\n",
    "finally:\n",
    "    print('code excecuted successfully')\n",
    "    print()\n",
    "    print(f'Sum of int values in the file before error handling:{sumNum} units')"
   ]
  },
  {
   "cell_type": "code",
   "execution_count": null,
   "id": "2194859f-03ba-457c-9a7b-5675435a345d",
   "metadata": {},
   "outputs": [],
   "source": []
  },
  {
   "cell_type": "code",
   "execution_count": null,
   "id": "6c95787c-88a7-4d45-a8df-3b9a913afb3a",
   "metadata": {},
   "outputs": [],
   "source": []
  }
 ],
 "metadata": {
  "kernelspec": {
   "display_name": "Python 3 (ipykernel)",
   "language": "python",
   "name": "python3"
  },
  "language_info": {
   "codemirror_mode": {
    "name": "ipython",
    "version": 3
   },
   "file_extension": ".py",
   "mimetype": "text/x-python",
   "name": "python",
   "nbconvert_exporter": "python",
   "pygments_lexer": "ipython3",
   "version": "3.12.7"
  }
 },
 "nbformat": 4,
 "nbformat_minor": 5
}
