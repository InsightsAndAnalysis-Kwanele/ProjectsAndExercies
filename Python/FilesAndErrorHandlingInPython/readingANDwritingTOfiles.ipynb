{
 "cells": [
  {
   "cell_type": "code",
   "execution_count": 1,
   "id": "01c74f55-6de2-49ad-b47e-3bde89a50ba3",
   "metadata": {},
   "outputs": [
    {
     "name": "stdout",
     "output_type": "stream",
     "text": [
      "Hello world\n"
     ]
    }
   ],
   "source": [
    "print('Hello world')"
   ]
  },
  {
   "cell_type": "code",
   "execution_count": null,
   "id": "c69f499b-463d-40f7-999d-077d4b92a4e1",
   "metadata": {},
   "outputs": [],
   "source": []
  },
  {
   "cell_type": "code",
   "execution_count": 2,
   "id": "5d514658-3e7f-45f7-b50d-8b8317711817",
   "metadata": {},
   "outputs": [
    {
     "name": "stdin",
     "output_type": "stream",
     "text": [
      "Add a New Employee: Kwanele\n",
      "Add Job Title: Data Analyst\n",
      "Add Job Salary:R 23000\n",
      "Would you like to add another employee:(Y/N): y\n",
      "Add a New Employee: Thabo\n",
      "Add Job Title: Software Engeneer\n",
      "Add Job Salary:R 60000\n",
      "Would you like to add another employee:(Y/N): Y\n",
      "Add a New Employee: Zanele\n",
      "Add Job Title: System Administrator\n",
      "Add Job Salary:R 45000\n",
      "Would you like to add another employee:(Y/N): n\n"
     ]
    },
    {
     "name": "stdout",
     "output_type": "stream",
     "text": [
      "File soEmployees.csv created ,employees added\n",
      "\n",
      "Code executed perfectly\n"
     ]
    }
   ],
   "source": [
    "import csv\n",
    "\n",
    "\n",
    "file_path='soEmployees.csv'\n",
    "add=True\n",
    "employees=[['Name','Position','Salary']]\n",
    "try:\n",
    "    while add:\n",
    "        addEmployees=[]\n",
    "        name=input('Add a New Employee:')\n",
    "        addEmployees.append(name)\n",
    "        position=input('Add Job Title:')\n",
    "        addEmployees.append(position)\n",
    "        salary=int(input('Add Job Salary:R'))\n",
    "        addEmployees.append(salary)   \n",
    "        employees.append(addEmployees)\n",
    "    \n",
    "        addMore=input('Would you like to add another employee:(Y/N):')\n",
    "        if addMore.lower()=='y':\n",
    "            add=True\n",
    "        elif addMore.lower()=='n':\n",
    "            add=False\n",
    "        else:\n",
    "            break\n",
    "\n",
    "\n",
    "    with open(file_path,'a') as file:\n",
    "        writer=csv.writer(file)\n",
    "        for row in employees:\n",
    "            writer.writerow(row)\n",
    "        print(f'File {file_path} created ,employees added')\n",
    "\n",
    "except:\n",
    "    print('Something went wrong')\n",
    "\n",
    "finally:\n",
    "    print(f'\\nCode executed perfectly')"
   ]
  },
  {
   "cell_type": "code",
   "execution_count": 5,
   "id": "ab9740bb-e73f-4f4e-9fba-6d3c3a594ae2",
   "metadata": {},
   "outputs": [
    {
     "name": "stdout",
     "output_type": "stream",
     "text": [
      "['Name', 'Position', 'Salary']\n",
      "['Kwanele', 'Data Analyst', '23000']\n",
      "['Thabo', 'Software Engeneer', '60000']\n",
      "['Zanele', 'System Administrator', '45000']\n"
     ]
    }
   ],
   "source": [
    "with open(file_path,'r',newline='') as file:\n",
    "    empl=csv.reader(file)\n",
    "    for line in empl:\n",
    "        if not line==[]:\n",
    "             print(line)\n",
    "            "
   ]
  },
  {
   "cell_type": "code",
   "execution_count": 9,
   "id": "32abe66d-a15e-4b40-bc11-71477063f6df",
   "metadata": {},
   "outputs": [
    {
     "name": "stdout",
     "output_type": "stream",
     "text": [
      "      Name              Position  Salary\n",
      "0  Kwanele          Data Analyst   23000\n",
      "1    Thabo     Software Engeneer   60000\n",
      "2   Zanele  System Administrator   45000\n"
     ]
    }
   ],
   "source": [
    "import pandas as pd\n",
    "\n",
    "df=pd.read_csv(file_path)\n",
    "print(df.to_string())"
   ]
  },
  {
   "cell_type": "code",
   "execution_count": 15,
   "id": "378d784e-8575-45e2-8ff0-9c249a953286",
   "metadata": {},
   "outputs": [
    {
     "name": "stdout",
     "output_type": "stream",
     "text": [
      "   Name  Age\n",
      "0   Sam   22\n",
      "1  Lily   25\n"
     ]
    }
   ],
   "source": [
    "df = pd.DataFrame({\n",
    "    'Name': ['Sam', 'Lily', 'Alex'],\n",
    "    'Age': [22, 25, 20]\n",
    "})\n",
    "\n",
    "print(df[df['Age']>21])"
   ]
  },
  {
   "cell_type": "code",
   "execution_count": null,
   "id": "4847b005-3bb6-470f-8f89-96cbae935280",
   "metadata": {},
   "outputs": [],
   "source": []
  }
 ],
 "metadata": {
  "kernelspec": {
   "display_name": "Python 3 (ipykernel)",
   "language": "python",
   "name": "python3"
  },
  "language_info": {
   "codemirror_mode": {
    "name": "ipython",
    "version": 3
   },
   "file_extension": ".py",
   "mimetype": "text/x-python",
   "name": "python",
   "nbconvert_exporter": "python",
   "pygments_lexer": "ipython3",
   "version": "3.12.7"
  }
 },
 "nbformat": 4,
 "nbformat_minor": 5
}
