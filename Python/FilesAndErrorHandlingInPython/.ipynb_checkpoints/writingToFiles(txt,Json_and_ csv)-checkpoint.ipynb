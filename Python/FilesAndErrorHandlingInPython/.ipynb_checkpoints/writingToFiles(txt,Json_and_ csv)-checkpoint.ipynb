{
 "cells": [
  {
   "cell_type": "code",
   "execution_count": 2,
   "id": "d2da1699-75a0-4cb6-85af-45197cbc3e97",
   "metadata": {},
   "outputs": [
    {
     "name": "stdout",
     "output_type": "stream",
     "text": [
      "file 'student.json' created\n"
     ]
    }
   ],
   "source": [
    "import json   #creating a json file\n",
    "student={\n",
    "    \"name\":\"Kwanele\",\n",
    "    \"module\":\"PHYS101\",\n",
    "    \"age\":20\n",
    "}\n",
    "\n",
    "file_path=\"student.json\"\n",
    "\n",
    "with open(file_path,\"w\") as file:\n",
    "    json.dump(student,file)\n",
    "    print(f\"file '{file_path}' created\")"
   ]
  },
  {
   "cell_type": "code",
   "execution_count": 4,
   "id": "469da00d-d593-4701-9690-d94314055f93",
   "metadata": {},
   "outputs": [
    {
     "name": "stdout",
     "output_type": "stream",
     "text": [
      "File created\n"
     ]
    }
   ],
   "source": [
    "file_cret=\"learner.txt\"  # creating a text file\n",
    "\n",
    "file_store=open(file_cret,\"w\")\n",
    "file_store.write(\"This is me I'm new:)\")\n",
    "print(\"File created\")\n",
    "file_store.close()"
   ]
  },
  {
   "cell_type": "code",
   "execution_count": 5,
   "id": "1e56129a-7f6c-4f66-bc96-afd36835f47c",
   "metadata": {},
   "outputs": [
    {
     "name": "stdout",
     "output_type": "stream",
     "text": [
      "This is me I'm new:)\n"
     ]
    }
   ],
   "source": [
    "myfile=\"learner.txt\"\n",
    "\n",
    "open_myfile=open(myfile,\"r\")\n",
    "print(open_myfile.read())\n",
    "open_myfile.close()\n"
   ]
  },
  {
   "cell_type": "code",
   "execution_count": 7,
   "id": "028249e2-5c95-4a7a-ac96-91e21b1a27f1",
   "metadata": {},
   "outputs": [
    {
     "name": "stdout",
     "output_type": "stream",
     "text": [
      "csv file created\n"
     ]
    }
   ],
   "source": [
    "import csv # creating a csv file   good with large data found on the internet\n",
    "\n",
    "employees=[[\"Name\",\"Age\",\"Job\"],\n",
    "          [\"Spongebob\",19,\"Chef\"],\n",
    "          [\"Sqiudward\",28,\"Cashier\"],\n",
    "          [\"Sandy\",20,\"Astrounought\"]]\n",
    "\n",
    "new_file=\"employees.csv\"\n",
    "\n",
    "with open(new_file,\"w\") as File:\n",
    "    csvFile=csv.writer(File)\n",
    "    for row in employees:\n",
    "        csvFile.writerow(row)\n",
    "    print(\"csv file created\")"
   ]
  },
  {
   "cell_type": "code",
   "execution_count": null,
   "id": "4e2bc5ce-48aa-46bb-ad8c-e099b6b8c8c9",
   "metadata": {},
   "outputs": [],
   "source": []
  }
 ],
 "metadata": {
  "kernelspec": {
   "display_name": "Python 3 (ipykernel)",
   "language": "python",
   "name": "python3"
  },
  "language_info": {
   "codemirror_mode": {
    "name": "ipython",
    "version": 3
   },
   "file_extension": ".py",
   "mimetype": "text/x-python",
   "name": "python",
   "nbconvert_exporter": "python",
   "pygments_lexer": "ipython3",
   "version": "3.12.7"
  }
 },
 "nbformat": 4,
 "nbformat_minor": 5
}
