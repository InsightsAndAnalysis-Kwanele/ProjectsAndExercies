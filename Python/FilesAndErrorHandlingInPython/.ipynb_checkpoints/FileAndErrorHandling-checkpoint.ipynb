{
 "cells": [
  {
   "cell_type": "code",
   "execution_count": null,
   "id": "3687acf6-e87e-42d9-a776-3e8b582a3bd6",
   "metadata": {},
   "outputs": [
    {
     "name": "stdin",
     "output_type": "stream",
     "text": [
      "Enter user name: Samuel\n",
      "Enter the user age: 35\n"
     ]
    },
    {
     "name": "stdout",
     "output_type": "stream",
     "text": [
      "Found file\n"
     ]
    }
   ],
   "source": [
    "import os\n",
    "\n",
    "file_path='user_data.txt'\n",
    "control=True\n",
    "try:\n",
    "    \n",
    "    while control:\n",
    "    \n",
    "        text_data=''\n",
    "        userName=str(input('Enter user name:'))\n",
    "        userAge=str(input('Enter the user age:'))\n",
    "        text_data=f'\\nName:{userName}\\nAge:{userAge}\\n'\n",
    "        \n",
    "        if os.path.exists(file_path):\n",
    "            print('Found file')\n",
    "            with open(file_path,'a') as file:\n",
    "                file.write(text_data)\n",
    "                \n",
    "                \n",
    "        else:\n",
    "            print(f\"File initilly not found,created new file '{file_path}' \")\n",
    "            with open(file_path,'w') as file:\n",
    "                file.write(text_data)\n",
    "        addMore=input(\"Would You like to add more users(Y/N):\")\n",
    "        if addMore.lower()=='y':\n",
    "            control=True\n",
    "        else:\n",
    "            control=False\n",
    "\n",
    "except:\n",
    "    print('Something went wrong')\n",
    "\n",
    "finally:\n",
    "    print('Execution finished')"
   ]
  },
  {
   "cell_type": "code",
   "execution_count": null,
   "id": "d5bf8df3-7753-4870-8cf4-e72109880895",
   "metadata": {},
   "outputs": [],
   "source": []
  },
  {
   "cell_type": "code",
   "execution_count": null,
   "id": "c7920bfc-6778-477b-b5bc-923cc86ba8b3",
   "metadata": {},
   "outputs": [],
   "source": []
  }
 ],
 "metadata": {
  "kernelspec": {
   "display_name": "Python 3 (ipykernel)",
   "language": "python",
   "name": "python3"
  },
  "language_info": {
   "codemirror_mode": {
    "name": "ipython",
    "version": 3
   },
   "file_extension": ".py",
   "mimetype": "text/x-python",
   "name": "python",
   "nbconvert_exporter": "python",
   "pygments_lexer": "ipython3",
   "version": "3.12.7"
  }
 },
 "nbformat": 4,
 "nbformat_minor": 5
}
